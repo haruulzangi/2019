{
 "cells": [
  {
   "cell_type": "markdown",
   "metadata": {},
   "source": [
    "# can you see me 1\n",
    "\n",
    "Даалгаврын хуудасруу орвол dashboard-тай төстэй дүр харагдана.\n",
    "\n",
    "![title](khulegu_imgs/ss0.png)\n",
    "\n",
    "Үүнээс гадна хуудасны голд BB-8 харагдана.\n",
    "\n",
    "Source кодыг нь харвал:\n",
    "\n",
    "![inspect](khulegu_imgs/ss1.png)\n",
    "\n",
    "“Haruul Zangi 2019” гэх стринг байрладаг газар өнгө өнгийн дөрвөлжин байхыг харж болно. Мөн адил “Rules”, “Challenges” … гэх мэд navbar ны element-үүд өөрчлөгдсөн байна.\n",
    "\n",
    "Color-уудынхаа утгуудыг цуглуулаад оролдож үзье."
   ]
  },
  {
   "cell_type": "code",
   "execution_count": 10,
   "metadata": {},
   "outputs": [],
   "source": [
    "bytes = [183, 158, 141] + [138, 138, 147] + [223, 165, 158] + [145, 152, 150] + [223, 205, 207] + [206, 198, 223]"
   ]
  },
  {
   "cell_type": "markdown",
   "metadata": {},
   "source": [
    "“Haruul Zangi 2019” гэх стринг яаж яаваад ийм болсныг ольё .\n",
    "\n",
    "```\n",
    "183, 158, 141, 138, 138, 147, 223\n",
    "H    a    r    u    u    l    зай\n",
    "```\n",
    "\n",
    "Хоёр 138 болон 223 гэх тоо олон удаа байх нь шууд орлуулга шифр гэдгийг нь харагдана.\n",
    "\n",
    "```\n",
    "H = 72   =>  183\n",
    "a = 97   =>  141\n",
    "```\n",
    "\n",
    "Эндээс шууд 255 аас тоог хасаад орлуулсан зүй тогтол харагдана. Таамагаа шалгаж үзье."
   ]
  },
  {
   "cell_type": "code",
   "execution_count": 12,
   "metadata": {
    "scrolled": true
   },
   "outputs": [
    {
     "name": "stdout",
     "output_type": "stream",
     "text": [
      "['H', 'a', 'r', 'u', 'u', 'l', ' ', 'Z', 'a', 'n', 'g', 'i', ' ', '2', '0', '1', '9', ' ']\n"
     ]
    }
   ],
   "source": [
    "print ([chr(255 - _) for _ in bytes ])"
   ]
  },
  {
   "cell_type": "markdown",
   "metadata": {},
   "source": [
    "Одоо нөгөө BB-8 ийн өнгөнүүд дээр энэ хувиргалаа хийе."
   ]
  },
  {
   "cell_type": "code",
   "execution_count": 1,
   "metadata": {},
   "outputs": [
    {
     "name": "stdout",
     "output_type": "stream",
     "text": [
      "FLAG: HZ19{BB_8_c4n_r3aD_c0L0r5!}\n"
     ]
    }
   ],
   "source": [
    "# зүүнээс баруун, дээрээс доошоо өнгөнүүдийн утгуудыг цуглуулвал\n",
    "bb8 = [\"b7a5ce\", \"c684bd\", \"bda0c7\"] + [\"a09ccb\", \"91a08d\", \"cc9ebb\"] + [\"a09ccf\", \"b3cf8d\", \"cade82\"]\n",
    "\n",
    "decoded = []\n",
    "\n",
    "for _ in bb8:\n",
    "    sep = [_[:2], _[2:4], _[4:6]]\n",
    "    sep = [int(x, 16) for x in sep]\n",
    "    sep = [chr(255 - x) for x in sep]\n",
    "    decoded += sep\n",
    "\n",
    "decoded = \"\".join(decoded)\n",
    "print (\"FLAG: \" + decoded)"
   ]
  },
  {
   "cell_type": "code",
   "execution_count": null,
   "metadata": {},
   "outputs": [],
   "source": []
  }
 ],
 "metadata": {
  "kernelspec": {
   "display_name": "Python 3",
   "language": "python",
   "name": "python3"
  },
  "language_info": {
   "codemirror_mode": {
    "name": "ipython",
    "version": 3
   },
   "file_extension": ".py",
   "mimetype": "text/x-python",
   "name": "python",
   "nbconvert_exporter": "python",
   "pygments_lexer": "ipython3",
   "version": "3.7.6"
  }
 },
 "nbformat": 4,
 "nbformat_minor": 2
}
